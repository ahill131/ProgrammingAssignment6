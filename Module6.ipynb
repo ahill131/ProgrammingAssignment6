{
 "cells": [
  {
   "cell_type": "code",
   "execution_count": 4,
   "metadata": {},
   "outputs": [],
   "source": [
    "from datetime import date\n",
    "\n",
    "now = date.today()\n",
    "datefile = open(\"today.txt\", \"w\")\n",
    "print(now, file = datefile)\n",
    "datefile.close()\n",
    "\n"
   ]
  },
  {
   "cell_type": "code",
   "execution_count": 5,
   "metadata": {},
   "outputs": [
    {
     "name": "stdout",
     "output_type": "stream",
     "text": [
      "2024-11-27\n",
      "\n"
     ]
    }
   ],
   "source": [
    "datein = open(\"today.txt\", \"r\")\n",
    "today_string = datein.read()\n",
    "datein.close()\n",
    "print(today_string)"
   ]
  },
  {
   "cell_type": "code",
   "execution_count": 12,
   "metadata": {},
   "outputs": [
    {
     "name": "stdout",
     "output_type": "stream",
     "text": [
      "time.struct_time(tm_year=2024, tm_mon=11, tm_mday=27, tm_hour=0, tm_min=0, tm_sec=0, tm_wday=2, tm_yday=332, tm_isdst=-1)\n"
     ]
    }
   ],
   "source": [
    "import time\n",
    "datein = open(\"today.txt\", \"r\")\n",
    "today_string = datein.read()\n",
    "datein.close()\n",
    "fmt = \"%Y-%m-%d \"\n",
    "now = time.strptime(today_string, fmt)\n",
    "print(now)"
   ]
  },
  {
   "cell_type": "markdown",
   "metadata": {},
   "source": [
    "15.1 Use multiprocessing to create three separate processes. Make each one wait a random number of seconds between zero and one, print the current time, and then exit.\n",
    "\n",
    "(random.randrange(0, 100)/100)"
   ]
  },
  {
   "cell_type": "code",
   "execution_count": 70,
   "metadata": {},
   "outputs": [
    {
     "name": "stdout",
     "output_type": "stream",
     "text": [
      "Thu Nov 28 00:53:49 2024\n",
      "Thu Nov 28 00:53:49 2024\n",
      "Thu Nov 28 00:53:50 2024\n"
     ]
    }
   ],
   "source": [
    "import multiprocessing\n",
    "import random\n",
    "import time\n",
    "\n",
    "def waiting():\n",
    "    time.sleep((random.randrange(0, 100)/100))\n",
    "    print(time.ctime(time.time()))\n",
    "\n",
    "if __name__ == \"__main__\":\n",
    "    p1 = multiprocessing.Process(target = waiting, args = ())\n",
    "    p2 = multiprocessing.Process(target = waiting, args = ())\n",
    "    p3 = multiprocessing.Process(target = waiting, args = ())\n",
    "    p1.run()\n",
    "    p2.run()\n",
    "    p3.run()"
   ]
  }
 ],
 "metadata": {
  "kernelspec": {
   "display_name": "Python 3",
   "language": "python",
   "name": "python3"
  },
  "language_info": {
   "codemirror_mode": {
    "name": "ipython",
    "version": 3
   },
   "file_extension": ".py",
   "mimetype": "text/x-python",
   "name": "python",
   "nbconvert_exporter": "python",
   "pygments_lexer": "ipython3",
   "version": "3.13.0"
  }
 },
 "nbformat": 4,
 "nbformat_minor": 2
}
